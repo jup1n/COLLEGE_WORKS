{
  "nbformat": 4,
  "nbformat_minor": 0,
  "metadata": {
    "colab": {
      "provenance": [],
      "include_colab_link": true
    },
    "kernelspec": {
      "name": "python3",
      "display_name": "Python 3"
    },
    "language_info": {
      "name": "python"
    }
  },
  "cells": [
    {
      "cell_type": "markdown",
      "metadata": {
        "id": "view-in-github",
        "colab_type": "text"
      },
      "source": [
        "<a href=\"https://colab.research.google.com/github/jup1n/COLLEGE_WORKS/blob/main/Pilhas_Funcional.ipynb\" target=\"_parent\"><img src=\"https://colab.research.google.com/assets/colab-badge.svg\" alt=\"Open In Colab\"/></a>"
      ]
    },
    {
      "cell_type": "markdown",
      "source": [
        "# Pilhas\n",
        "\n",
        "\n",
        "Pilhas são listas nas quais o acesso somente pode ser feito em uma das extremidades, denominada de topo da pilha. \n",
        "Todas as consultas, alterações, inclusões e remoções de nodos somente podem ser realizadas sobre um nodo, que é aquele que está na extremidade considerada o topo da pilha. \n",
        "Esta disciplina de acesso é também conhecida como LIFO – Last In First Out – o primeiro nodo a ser retirado deve ser o último nodo que foi incluído na pilha.\n",
        "\n",
        "![Pilha.png](data:image/png;base64,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)\n",
        "\n",
        "São exemplos de uso de pilha em um sistema:\n",
        "\n",
        "* Funções recursivas em compiladores;\n",
        "* Mecanismo de desfazer/refazer dos editores de texto;\n",
        "* Navegação entre páginas Web;\n",
        "* Avaliação de Expressões Matemáticas\n",
        "* etc.\n",
        "\n",
        "Operações com Pilha:\n",
        "Todas as operações em uma pilha podem ser imaginadas como as que ocorre numa pilha de pratos em um restaurante ou como num jogo com as cartas de um baralho:\n",
        "\n",
        "* criação da pilha (Em python usam-se listas para implemetar uma pilha);\n",
        "* empilhar (push) - o elemento é o parâmetro nesta operação; \n",
        "* desempilhar (pop);\n",
        "* mostrar o topo;\n",
        "* verificar se a pilha está vazia (isEmpty);\n",
        "* verificar se a pilha está cheia (isFull - caso a pilha tenha um limite estabelecido) \n"
      ],
      "metadata": {
        "id": "JxTOtwzqQXaK"
      }
    },
    {
      "cell_type": "markdown",
      "source": [
        "## Exemplo de uma pilha em Python"
      ],
      "metadata": {
        "id": "hWrDZyyJudFW"
      }
    },
    {
      "cell_type": "code",
      "source": [
        "pilhaDeNumeros = [1, 1, 2, 3, 5] # Pilhas em python são implementadas na forma de lista\n",
        "print(\"pilhaDeNumeros: \", pilhaDeNumeros)\n",
        "\n",
        "pilhaDeNumeros.append(8)\n",
        "print(\"Inserindo um elemento: \", pilhaDeNumeros)\n",
        "\n",
        "pilhaDeNumeros.append(13)\n",
        "print(\"Inserindo outro elemento: \", pilhaDeNumeros)\n",
        "\n",
        "pilhaDeNumeros.pop()\n",
        "print(\"Removendo um elemento: \", pilhaDeNumeros)\n",
        "\n",
        "pilhaDeNumeros.pop()\n",
        "print(\"Removendo outro elemento: \", pilhaDeNumeros)"
      ],
      "metadata": {
        "colab": {
          "base_uri": "https://localhost:8080/"
        },
        "id": "5XDM5LWLuYQT",
        "outputId": "4b79689f-46fc-4a58-ced9-1805fb62c9c7"
      },
      "execution_count": null,
      "outputs": [
        {
          "output_type": "stream",
          "name": "stdout",
          "text": [
            "pilhaDeNumeros:  [1, 1, 2, 3, 5]\n",
            "Inserindo um elemento:  [1, 1, 2, 3, 5, 8]\n",
            "Inserindo outro elemento:  [1, 1, 2, 3, 5, 8, 13]\n",
            "Removendo um elemento:  [1, 1, 2, 3, 5, 8]\n",
            "Removendo outro elemento:  [1, 1, 2, 3, 5]\n"
          ]
        }
      ]
    },
    {
      "cell_type": "markdown",
      "source": [
        "## Implementando uma pilha utilizando programação funcional"
      ],
      "metadata": {
        "id": "wAPhrREKNBEl"
      }
    },
    {
      "cell_type": "code",
      "source": [
        "# Operações em uma pilha\n"
      ],
      "metadata": {
        "id": "8jZwyyK_QWz0"
      },
      "execution_count": null,
      "outputs": []
    },
    {
      "cell_type": "code",
      "execution_count": null,
      "metadata": {
        "id": "Dhd2E19aQUzs"
      },
      "outputs": [],
      "source": [
        "def main():\n",
        "    pass\n",
        "\n",
        "\n",
        "main()"
      ]
    }
  ]
}